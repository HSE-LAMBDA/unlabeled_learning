{
 "cells": [
  {
   "cell_type": "code",
   "execution_count": 22,
   "metadata": {},
   "outputs": [],
   "source": [
    "import tensorflow as tf\n",
    "import numpy as np\n",
    "np.set_printoptions(precision=2)\n",
    "import matplotlib.pyplot as plt\n",
    "from keras.models import Sequential, Model\n",
    "from keras.layers import Dense, Dropout, Flatten, Conv2D, MaxPooling2D, Input\n",
    "from keras import backend as K\n",
    "from keras.regularizers import l2\n",
    "import keras\n",
    "from skimage.transform import rotate\n",
    "from IPython.display import clear_output"
   ]
  },
  {
   "cell_type": "code",
   "execution_count": 3,
   "metadata": {},
   "outputs": [
    {
     "name": "stdout",
     "output_type": "stream",
     "text": [
      "Extracting MNIST-data/train-images-idx3-ubyte.gz\n",
      "Extracting MNIST-data/train-labels-idx1-ubyte.gz\n",
      "Extracting MNIST-data/t10k-images-idx3-ubyte.gz\n",
      "Extracting MNIST-data/t10k-labels-idx1-ubyte.gz\n"
     ]
    }
   ],
   "source": [
    "mnist = tf.contrib.learn.datasets.load_dataset(\"mnist\")\n",
    "train_data = mnist.train.images\n",
    "train_data = train_data.reshape(-1,28,28,1)\n",
    "train_labels = np.asarray(mnist.train.labels, dtype=np.int32)"
   ]
  },
  {
   "cell_type": "markdown",
   "metadata": {},
   "source": [
    "Эта штука бьёт на пары двойным циклом"
   ]
  },
  {
   "cell_type": "code",
   "execution_count": 20,
   "metadata": {
    "collapsed": true,
    "scrolled": true
   },
   "outputs": [],
   "source": [
    "def create_train(X, y, z, predictor):\n",
    "    pairs = []\n",
    "    \n",
    "    C0_mask, C1_mask = np.all(y == 0, axis=1), np.all(y == 1, axis=1)        \n",
    "    C0, C1 = X[C0_mask], X[C1_mask]\n",
    "    C0_vectors, C1_vectors = predictor(C0), predictor(C1)\n",
    "    C0, C1, C0_vectors, C1_vectors = list(map(lambda x: list(x), [C0, C1, C0_vectors, C1_vectors]))\n",
    "        \n",
    "    z0,z1 = z[C0_mask].reshape(-1), z[C1_mask].reshape(-1)\n",
    "    z0, z1 = list(z0), list(z1)\n",
    "        \n",
    "    while len(C0) > 0 and len(C1) > 0:\n",
    "        clear_output()\n",
    "        print(len(C0),' remain')\n",
    "        x0_index = 0 # будем подбираем пару для нулевого элемента C0\n",
    "        norm = np.linalg.norm(np.array(C1_vectors) - C0_vectors[0], axis=1)\n",
    "        x1_index = np.argmin(norm) # ему сгодится такая пара\n",
    "\n",
    "        new_pair = [C0[x0_index], C1[x1_index]]\n",
    "        pairs.append(new_pair) # присобачиваем полученную пару к pairs\n",
    "\n",
    "        del C0[x0_index]\n",
    "        del C1[x1_index]\n",
    "        del C0_vectors[x0_index]\n",
    "        del C1_vectors[x1_index]\n",
    "        del z0[x0_index]\n",
    "        del z1[x1_index]\n",
    "    return pairs"
   ]
  },
  {
   "cell_type": "markdown",
   "metadata": {},
   "source": [
    "# Определяем Cnn\n",
    "Второй метод отвечает за пересчёт вероятностей и соответствующих констант"
   ]
  },
  {
   "cell_type": "code",
   "execution_count": 5,
   "metadata": {
    "collapsed": true
   },
   "outputs": [],
   "source": [
    "class Cnn(Model):\n",
    "    def __init__(self):\n",
    "  \n",
    "        def weighted_loss(constants):\n",
    "            def loss(y_true, y_pred):\n",
    "                return K.mean(constants * K.binary_crossentropy(y_true, y_pred), axis=-1)\n",
    "            return loss\n",
    "\n",
    "        main_input = Input(shape=[28,28,1], name='input')\n",
    "        constants = Input(shape=[1], name='constants')\n",
    "\n",
    "        x = Conv2D(32, (3, 3), activation='relu')(main_input)\n",
    "        x = Conv2D(32, (3, 3), activation='relu')(x)\n",
    "        x = MaxPooling2D((2, 2))(x)\n",
    "        x = Conv2D(64, (3, 3), activation='relu')(x)\n",
    "        x = Conv2D(64, (3, 3), activation='relu')(x)\n",
    "        x = MaxPooling2D((2, 2))(x)\n",
    "        x = Flatten()(x)\n",
    "        x = Dense(256, activation='relu')(x)\n",
    "        output = Dense(1, activation='sigmoid', name='output')(x)\n",
    "\n",
    "        super().__init__(inputs=[main_input, constants], outputs=[output])\n",
    "        \n",
    "        self.compile(loss=weighted_loss(constants),\n",
    "                      optimizer=keras.optimizers.Adam(),\n",
    "                      metrics=['accuracy'])\n",
    "        \n",
    "        y_ = K.placeholder([None, 1])\n",
    "        y_pred = self(inputs=[main_input,constants])\n",
    "        simple_loss = K.binary_crossentropy(output=y_pred, target=y_)\n",
    "        self.grads = K.function([main_input,constants, y_], K.gradients(simple_loss, self.weights))\n",
    "        \n",
    "        self.probs = None\n",
    "        self.consts = None\n",
    "        \n",
    "    def recompute_probs_and_consts(self):\n",
    "\n",
    "        def get_G(pair):\n",
    "            def l2_norm_of_list_of_arrays(list_of_arrays):\n",
    "                output = np.concatenate([elem.flatten() for elem in list_of_arrays])\n",
    "                output = output.reshape(-1)\n",
    "                return np.linalg.norm(output)\n",
    "            \n",
    "            def grads_on_pair(pair):\n",
    "                return self.grads([pair.reshape(-1,28,28,1),\n",
    "                                np.array([1,1]).reshape(-1,1),\n",
    "                                np.array([0,1]).reshape(-1,1)])\n",
    "            return l2_norm_of_list_of_arrays(grads_on_pair(pair))\n",
    "\n",
    "        self.probs = np.array([get_G(pair) + 1e-8 for pair in PAIRS], dtype='float64')\n",
    "        self.probs = self.probs / self.probs.sum()\n",
    "        self.probs = np.clip(self.probs, a_min=(1 / len(PAIRS))/50, a_max=(1 / len(PAIRS))*50)\n",
    "        self.probs = self.probs / self.probs.sum()\n",
    "\n",
    "        self.consts = (1 / len(PAIRS)) * (1 / self.probs)"
   ]
  },
  {
   "cell_type": "markdown",
   "metadata": {},
   "source": [
    "# Посмотрим, какие повороты не приводят к недо/переобучению"
   ]
  },
  {
   "cell_type": "markdown",
   "metadata": {},
   "source": [
    "$\\pm 3 \\deg$, ничего не выучиваем:"
   ]
  },
  {
   "cell_type": "code",
   "execution_count": 9,
   "metadata": {
    "collapsed": true
   },
   "outputs": [],
   "source": [
    "D0 = [rotate(img, np.random.normal(loc=-3, scale=5), order=0) for img in train_data]\n",
    "D1 = [rotate(img, np.random.normal(loc=3, scale=5) , order=0) for img in train_data]\n",
    "X = np.append(D0, D1, axis=0)\n",
    "y = np.append( np.zeros([len(D0),1]), np.ones([len(D1),1]), axis=0)"
   ]
  },
  {
   "cell_type": "code",
   "execution_count": 10,
   "metadata": {},
   "outputs": [
    {
     "name": "stdout",
     "output_type": "stream",
     "text": [
      "Train on 88000 samples, validate on 22000 samples\n",
      "Epoch 1/5\n",
      "88000/88000 [==============================] - 90s 1ms/step - loss: 0.6056 - acc: 0.6645 - val_loss: 0.7109 - val_acc: 0.4922\n",
      "Epoch 2/5\n",
      "88000/88000 [==============================] - 90s 1ms/step - loss: 0.5556 - acc: 0.7164 - val_loss: 0.7494 - val_acc: 0.4484\n",
      "Epoch 3/5\n",
      "88000/88000 [==============================] - 56s 637us/step - loss: 0.5452 - acc: 0.7261 - val_loss: 0.8323 - val_acc: 0.4314\n",
      "Epoch 4/5\n",
      "88000/88000 [==============================] - 78s 885us/step - loss: 0.5390 - acc: 0.7288 - val_loss: 0.7492 - val_acc: 0.4569\n",
      "Epoch 5/5\n",
      "88000/88000 [==============================] - 85s 967us/step - loss: 0.5334 - acc: 0.7311 - val_loss: 0.7642 - val_acc: 0.4397\n"
     ]
    },
    {
     "data": {
      "text/plain": [
       "<keras.callbacks.History at 0x7f0e346b8be0>"
      ]
     },
     "execution_count": 10,
     "metadata": {},
     "output_type": "execute_result"
    }
   ],
   "source": [
    "cnn_3 = Cnn()\n",
    "cnn_3.fit([X, np.ones([len(X), 1])], y, epochs=5, validation_split=0.2)"
   ]
  },
  {
   "cell_type": "markdown",
   "metadata": {},
   "source": [
    "$\\pm 5 \\deg$, что-то выучиваем:"
   ]
  },
  {
   "cell_type": "code",
   "execution_count": 12,
   "metadata": {
    "collapsed": true
   },
   "outputs": [],
   "source": [
    "D0 = [rotate(img, np.random.normal(loc=-5, scale=5), order=0) for img in train_data]\n",
    "D1 = [rotate(img, np.random.normal(loc=5, scale=5) , order=0) for img in train_data]\n",
    "X = np.append(D0, D1, axis=0)\n",
    "y = np.append( np.zeros([len(D0),1]), np.ones([len(D1),1]), axis=0)"
   ]
  },
  {
   "cell_type": "code",
   "execution_count": 13,
   "metadata": {},
   "outputs": [
    {
     "name": "stdout",
     "output_type": "stream",
     "text": [
      "Train on 88000 samples, validate on 22000 samples\n",
      "Epoch 1/3\n",
      "88000/88000 [==============================] - 86s 978us/step - loss: 0.4587 - acc: 0.7720 - val_loss: 0.5346 - val_acc: 0.6780\n",
      "Epoch 2/3\n",
      "88000/88000 [==============================] - 86s 978us/step - loss: 0.3869 - acc: 0.8222 - val_loss: 0.5305 - val_acc: 0.6652\n",
      "Epoch 3/3\n",
      "88000/88000 [==============================] - 88s 1000us/step - loss: 0.3775 - acc: 0.8266 - val_loss: 0.5541 - val_acc: 0.6668\n"
     ]
    },
    {
     "data": {
      "text/plain": [
       "<keras.callbacks.History at 0x7f0e43110630>"
      ]
     },
     "execution_count": 13,
     "metadata": {},
     "output_type": "execute_result"
    }
   ],
   "source": [
    "cnn_5 = Cnn()\n",
    "cnn_5.fit([X, np.ones([len(X), 1])], y, epochs=3, validation_split=0.2)"
   ]
  },
  {
   "cell_type": "markdown",
   "metadata": {},
   "source": [
    "$\\pm 15 \\deg$, слишком много всего выучиваем:"
   ]
  },
  {
   "cell_type": "code",
   "execution_count": 15,
   "metadata": {
    "collapsed": true
   },
   "outputs": [],
   "source": [
    "D0 = [rotate(img, np.random.normal(loc=-15, scale=5), order=0) for img in train_data]\n",
    "D1 = [rotate(img, np.random.normal(loc=15, scale=5) , order=0) for img in train_data]\n",
    "X = np.append(D0, D1, axis=0)\n",
    "y = np.append( np.zeros([len(D0),1]), np.ones([len(D1),1]), axis=0)"
   ]
  },
  {
   "cell_type": "code",
   "execution_count": 16,
   "metadata": {},
   "outputs": [
    {
     "name": "stdout",
     "output_type": "stream",
     "text": [
      "Train on 88000 samples, validate on 22000 samples\n",
      "Epoch 1/3\n",
      "88000/88000 [==============================] - 87s 988us/step - loss: 0.1072 - acc: 0.9553 - val_loss: 0.0291 - val_acc: 0.9879\n",
      "Epoch 2/3\n",
      "88000/88000 [==============================] - 86s 979us/step - loss: 0.0224 - acc: 0.9915 - val_loss: 0.0257 - val_acc: 0.9908\n",
      "Epoch 3/3\n",
      "88000/88000 [==============================] - 87s 992us/step - loss: 0.0164 - acc: 0.9936 - val_loss: 0.0181 - val_acc: 0.9916\n"
     ]
    },
    {
     "data": {
      "text/plain": [
       "<keras.callbacks.History at 0x7f0e34447ef0>"
      ]
     },
     "execution_count": 16,
     "metadata": {},
     "output_type": "execute_result"
    }
   ],
   "source": [
    "cnn_15 = Cnn()\n",
    "cnn_15.fit([X, np.ones([len(X), 1])], y, epochs=3, validation_split=0.2)"
   ]
  },
  {
   "cell_type": "markdown",
   "metadata": {},
   "source": [
    "так что в дальнейшем будем работать с поворотами на $\\pm5 \\deg$"
   ]
  },
  {
   "cell_type": "markdown",
   "metadata": {},
   "source": [
    "# Сравним uniform сэмплинг и smart сэмплинг \n",
    "Определим два сэмплера для сэмплинга пар:"
   ]
  },
  {
   "cell_type": "code",
   "execution_count": 17,
   "metadata": {
    "collapsed": true
   },
   "outputs": [],
   "source": [
    "DATA_SHAPE = [-1, 28, 28, 1]\n",
    "def generate_uniform(pairs, batch_size=512):\n",
    "    while True:\n",
    "        inds = np.random.choice(len(pairs), size=(batch_size,))\n",
    "        current_x = pairs[inds]\n",
    "        current_y = np.array([[0,1] for _ in current_x])\n",
    "        current_x = current_x.reshape(*DATA_SHAPE)\n",
    "        current_y = current_y.reshape(-1,1)\n",
    "        yield {'input':current_x, 'constants':np.ones(current_y.shape)}, {'output':current_y}\n",
    "\n",
    "def generate_smart(pairs, probs, consts, batch_size=512):\n",
    "    while True:\n",
    "        inds = np.random.choice(len(pairs), size=[batch_size], p=probs)\n",
    "        current_x = pairs[inds]\n",
    "        current_y_ = np.array([[0,1] for _ in current_x])\n",
    "        current_c = np.array([[consts[i], consts[i]] for i in range(len(pairs))])[inds]\n",
    "        current_x = current_x.reshape(*DATA_SHAPE)\n",
    "        current_y_ = current_y_.reshape(-1,1)\n",
    "        current_c = current_c.reshape(-1,1)\n",
    "        yield {'input':current_x, 'constants':current_c}, {'output':current_y_}"
   ]
  },
  {
   "cell_type": "markdown",
   "metadata": {},
   "source": [
    "датасет для сравнения ($30*2$к картинок)"
   ]
  },
  {
   "cell_type": "code",
   "execution_count": null,
   "metadata": {},
   "outputs": [
    {
     "name": "stdout",
     "output_type": "stream",
     "text": [
      "1  remain\n"
     ]
    }
   ],
   "source": [
    "D0 = [rotate(img, np.random.normal(loc=-5, scale=5), order=0) for img in train_data[:30000]]\n",
    "D1 = [rotate(img, np.random.normal(loc=5, scale=5) , order=0) for img in train_data[:30000]]\n",
    "X = np.append(D0, D1, axis=0)\n",
    "y = np.append( np.zeros([len(D0),1]), np.ones([len(D1),1]), axis=0)\n",
    "\n",
    "# Наконец побьём на пары:\n",
    "PAIRS = create_train(X, y , np.ones(len(y)), lambda x: x.reshape(-1,28*28))\n",
    "PAIRS = np.array(PAIRS)"
   ]
  },
  {
   "cell_type": "code",
   "execution_count": 25,
   "metadata": {
    "collapsed": true
   },
   "outputs": [],
   "source": [
    "cnn_uniform = Cnn()\n",
    "cnn_uniform.save_weights('weights')\n",
    "cnn_smart = Cnn()\n",
    "cnn_smart.load_weights('weights')"
   ]
  },
  {
   "cell_type": "markdown",
   "metadata": {},
   "source": [
    "Будем измерять лосс на трейне"
   ]
  },
  {
   "cell_type": "code",
   "execution_count": null,
   "metadata": {},
   "outputs": [
    {
     "name": "stdout",
     "output_type": "stream",
     "text": [
      "49\n"
     ]
    }
   ],
   "source": [
    "uniform_losses = []\n",
    "for _ in range(50):\n",
    "    clear_output()\n",
    "    print(_)\n",
    "    cnn_uniform.fit_generator(generate_uniform(PAIRS, batch_size=64),\n",
    "                            steps_per_epoch=100, epochs=1, verbose=False)\n",
    "    loss = cnn_uniform.evaluate([X, np.ones([len(X),1])], y, batch_size=128, verbose=False)[0]\n",
    "    uniform_losses.append(loss)\n",
    "    \n",
    "    \n",
    "smart_losses = []    \n",
    "for _ in range(50):\n",
    "    clear_output()\n",
    "    print(_)\n",
    "    if _ < 10:\n",
    "        cnn_smart.fit_generator(generate_uniform(PAIRS, batch_size=64),\n",
    "                            steps_per_epoch=100, epochs=1, verbose=False)\n",
    "    else:\n",
    "        if _ % 5 == 0:cnn_smart.recompute_probs_and_consts()\n",
    "        cnn_smart.fit_generator(generate_smart(PAIRS, cnn_smart.probs, cnn_smart.consts, batch_size=64),\n",
    "                                steps_per_epoch=100, epochs=1, verbose=False)    \n",
    "    loss = cnn_smart.evaluate([X, np.ones([len(X),1])], y, batch_size=128, verbose=False)[0]\n",
    "    smart_losses.append(loss)"
   ]
  },
  {
   "cell_type": "markdown",
   "metadata": {},
   "source": [
    "Не наблюдаем преимуществ:"
   ]
  },
  {
   "cell_type": "code",
   "execution_count": 27,
   "metadata": {},
   "outputs": [
    {
     "data": {
      "image/png": "[encoded data removed]",
      "text/plain": [
       "<matplotlib.figure.Figure at 0x7f0cc9fa61d0>"
      ]
     },
     "metadata": {},
     "output_type": "display_data"
    }
   ],
   "source": [
    "plt.plot(uniform_losses)\n",
    "plt.plot(smart_losses)\n",
    "plt.show()"
   ]
  },
  {
   "cell_type": "markdown",
   "metadata": {},
   "source": [
    "# Проверим, как влияет на переобучение софтплюс+l2рег"
   ]
  },
  {
   "cell_type": "code",
   "execution_count": 42,
   "metadata": {
    "collapsed": true
   },
   "outputs": [],
   "source": [
    "class Cnn_softplus(Model):\n",
    "    def __init__(self):\n",
    "  \n",
    "        def weighted_loss(constants):\n",
    "            def loss(y_true, y_pred):\n",
    "                return K.mean(constants * K.binary_crossentropy(y_true, y_pred), axis=-1)\n",
    "            return loss\n",
    "\n",
    "        main_input = Input(shape=[28,28,1], name='input')\n",
    "        constants = Input(shape=[1], name='constants')\n",
    "\n",
    "        x = Conv2D(32, (3, 3), activation='softplus', kernel_regularizer=l2(0.01), bias_regularizer=l2(0.01))(main_input)\n",
    "        x = Conv2D(32, (3, 3), activation='softplus', kernel_regularizer=l2(0.01), bias_regularizer=l2(0.01))(x)\n",
    "        x = MaxPooling2D((2, 2))(x)\n",
    "        x = Conv2D(64, (3, 3), activation='softplus', kernel_regularizer=l2(0.01), bias_regularizer=l2(0.01))(x)\n",
    "        x = Conv2D(64, (3, 3), activation='softplus', kernel_regularizer=l2(0.01), bias_regularizer=l2(0.01))(x)\n",
    "        x = MaxPooling2D((2, 2))(x)\n",
    "        x = Flatten()(x)\n",
    "        x = Dense(256, activation='softplus', kernel_regularizer=l2(0.01), bias_regularizer=l2(0.01))(x)\n",
    "        output = Dense(1, activation='sigmoid', name='output', kernel_regularizer=l2(0.01), bias_regularizer=l2(0.01))(x)\n",
    "\n",
    "        super().__init__(inputs=[main_input, constants], outputs=[output])\n",
    "        \n",
    "        self.compile(loss=weighted_loss(constants),\n",
    "                      optimizer=keras.optimizers.Adam(),\n",
    "                      metrics=['accuracy'])\n",
    "        \n",
    "        y_ = K.placeholder([None, 1])\n",
    "        y_pred = self(inputs=[main_input,constants])\n",
    "        simple_loss = K.binary_crossentropy(output=y_pred, target=y_)\n",
    "        self.grads = K.function([main_input,constants, y_], K.gradients(simple_loss, self.weights))\n",
    "        \n",
    "        self.probs = None\n",
    "        self.consts = None\n",
    "        \n",
    "    def recompute_probs_and_consts(self):\n",
    "\n",
    "        def get_G(pair):\n",
    "            def l2_norm_of_list_of_arrays(list_of_arrays):\n",
    "                output = np.concatenate([elem.flatten() for elem in list_of_arrays])\n",
    "                output = output.reshape(-1)\n",
    "                return np.linalg.norm(output)\n",
    "            \n",
    "            def grads_on_pair(pair):\n",
    "                return self.grads([pair.reshape(-1,28,28,1),\n",
    "                                np.array([1,1]).reshape(-1,1),\n",
    "                                np.array([0,1]).reshape(-1,1)])\n",
    "            return l2_norm_of_list_of_arrays(grads_on_pair(pair))\n",
    "\n",
    "        self.probs = np.array([get_G(pair) + 1e-8 for pair in PAIRS], dtype='float64')\n",
    "        self.probs = self.probs / self.probs.sum()\n",
    "        self.probs = np.clip(self.probs, a_min=(1 / len(PAIRS))/50, a_max=(1 / len(PAIRS))*50)\n",
    "        self.probs = self.probs / self.probs.sum()\n",
    "\n",
    "        self.consts = (1 / len(PAIRS)) * (1 / self.probs)"
   ]
  },
  {
   "cell_type": "markdown",
   "metadata": {},
   "source": [
    "$\\pm 3 \\deg$, оверфит никуда не исчез"
   ]
  },
  {
   "cell_type": "code",
   "execution_count": 43,
   "metadata": {},
   "outputs": [],
   "source": [
    "D0 = [rotate(img, np.random.normal(loc=-3, scale=5), order=0) for img in train_data]\n",
    "D1 = [rotate(img, np.random.normal(loc=3, scale=5) , order=0) for img in train_data]\n",
    "X = np.append(D0, D1, axis=0)\n",
    "y = np.append( np.zeros([len(D0),1]), np.ones([len(D1),1]), axis=0)"
   ]
  },
  {
   "cell_type": "code",
   "execution_count": 44,
   "metadata": {},
   "outputs": [
    {
     "name": "stdout",
     "output_type": "stream",
     "text": [
      "Train on 88000 samples, validate on 22000 samples\n",
      "Epoch 1/3\n",
      "88000/88000 [==============================] - 54s 612us/step - loss: 0.8294 - acc: 0.6224 - val_loss: 0.8999 - val_acc: 0.0000e+00\n",
      "Epoch 2/3\n",
      "88000/88000 [==============================] - 51s 576us/step - loss: 0.6724 - acc: 0.6246 - val_loss: 0.9583 - val_acc: 0.0000e+00\n",
      "Epoch 3/3\n",
      "88000/88000 [==============================] - 53s 600us/step - loss: 0.6684 - acc: 0.6250 - val_loss: 0.9809 - val_acc: 0.0000e+00\n"
     ]
    },
    {
     "data": {
      "text/plain": [
       "<keras.callbacks.History at 0x7f0cd94995f8>"
      ]
     },
     "execution_count": 44,
     "metadata": {},
     "output_type": "execute_result"
    }
   ],
   "source": [
    "cnn_softplus_3 = Cnn_softplus()\n",
    "cnn_softplus_3.fit([X, np.ones([len(X), 1])], y, epochs=3, validation_split=0.2)"
   ]
  },
  {
   "cell_type": "markdown",
   "metadata": {},
   "source": [
    "$\\pm 5 \\deg$, оверфит никуда не исчез"
   ]
  },
  {
   "cell_type": "code",
   "execution_count": 45,
   "metadata": {
    "collapsed": true
   },
   "outputs": [],
   "source": [
    "D0 = [rotate(img, np.random.normal(loc=-5, scale=5), order=0) for img in train_data]\n",
    "D1 = [rotate(img, np.random.normal(loc=5, scale=5) , order=0) for img in train_data]\n",
    "X = np.append(D0, D1, axis=0)\n",
    "y = np.append( np.zeros([len(D0),1]), np.ones([len(D1),1]), axis=0)"
   ]
  },
  {
   "cell_type": "code",
   "execution_count": 46,
   "metadata": {},
   "outputs": [
    {
     "name": "stdout",
     "output_type": "stream",
     "text": [
      "Train on 88000 samples, validate on 22000 samples\n",
      "Epoch 1/3\n",
      "88000/88000 [==============================] - 54s 616us/step - loss: 0.8163 - acc: 0.6232 - val_loss: 1.2001 - val_acc: 0.0000e+00\n",
      "Epoch 2/3\n",
      "88000/88000 [==============================] - 52s 590us/step - loss: 0.6708 - acc: 0.6250 - val_loss: 1.0481 - val_acc: 0.0000e+00\n",
      "Epoch 3/3\n",
      "88000/88000 [==============================] - 50s 569us/step - loss: 0.6681 - acc: 0.6250 - val_loss: 1.0190 - val_acc: 0.0000e+00\n"
     ]
    },
    {
     "data": {
      "text/plain": [
       "<keras.callbacks.History at 0x7f0cd8825fd0>"
      ]
     },
     "execution_count": 46,
     "metadata": {},
     "output_type": "execute_result"
    }
   ],
   "source": [
    "cnn_softplus_5 = Cnn_softplus()\n",
    "cnn_softplus_5.fit([X, np.ones([len(X), 1])], y, epochs=3, validation_split=0.2)"
   ]
  }
 ],
 "metadata": {
  "kernelspec": {
   "display_name": "Python 3",
   "language": "python",
   "name": "python3"
  },
  "language_info": {
   "codemirror_mode": {
    "name": "ipython",
    "version": 3
   },
   "file_extension": ".py",
   "mimetype": "text/x-python",
   "name": "python",
   "nbconvert_exporter": "python",
   "pygments_lexer": "ipython3",
   "version": "3.6.1"
  }
 },
 "nbformat": 4,
 "nbformat_minor": 2
}
