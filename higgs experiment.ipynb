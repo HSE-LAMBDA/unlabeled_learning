{
 "cells": [
  {
   "cell_type": "code",
   "execution_count": 1,
   "metadata": {},
   "outputs": [
    {
     "name": "stderr",
     "output_type": "stream",
     "text": [
      "Using TensorFlow backend.\n"
     ]
    }
   ],
   "source": [
    "import tensorflow as tf\n",
    "import numpy as np\n",
    "np.set_printoptions(precision=2)\n",
    "import matplotlib.pyplot as plt\n",
    "from keras.models import Sequential, Model\n",
    "from keras.layers import Dense, Input\n",
    "from keras import backend as K\n",
    "import keras\n",
    "from IPython.display import clear_output\n",
    "import pandas as pd\n",
    "from sklearn.utils import shuffle\n",
    "from sklearn.neighbors import KDTree\n",
    "from tqdm import trange, tqdm\n",
    "import warnings\n",
    "warnings.filterwarnings(\"ignore\")"
   ]
  },
  {
   "cell_type": "markdown",
   "metadata": {},
   "source": [
    "Я пользовался неполным датасетом (т.к. полный очень долго pair'ится): взял по 130тыс каждого класса"
   ]
  },
  {
   "cell_type": "code",
   "execution_count": null,
   "metadata": {
    "collapsed": true
   },
   "outputs": [],
   "source": [
    "A = 500000\n",
    "df = pd.read_csv('HIGGS.csv.gz')\n",
    "X_all = df.as_matrix()[:A, 1:]\n",
    "y_all = df.as_matrix()[:A, 0]\n",
    "zeros = X_all[y_all==0]\n",
    "ones = X_all[y_all==1]\n",
    "ones = ones[len(ones)//2:]\n",
    "DATA_SHAPE = [-1, 28]"
   ]
  },
  {
   "cell_type": "code",
   "execution_count": null,
   "metadata": {},
   "outputs": [
    {
     "name": "stderr",
     "output_type": "stream",
     "text": [
      "100%|██████████| 132352/132352 [1:16:32<00:00, 28.82it/s]\n"
     ]
    }
   ],
   "source": [
    "kdtree = KDTree(zeros, leaf_size=16)\n",
    "indx = np.ones(shape=(ones.shape[0]), dtype='int64') * (-1)\n",
    "used_points = set()\n",
    "for i in tqdm(np.random.permutation(ones.shape[0])):\n",
    "    match_found = False\n",
    "    k = 10\n",
    "    \n",
    "    while not match_found:\n",
    "        js = kdtree.query(ones[i, :].reshape(1, -1), k=k, return_distance=False)[0]\n",
    "        for j in js:\n",
    "            if not j in used_points:\n",
    "                used_points.add(j)\n",
    "                indx[i] = j\n",
    "                match_found = True\n",
    "                break\n",
    "        k += 10"
   ]
  },
  {
   "cell_type": "code",
   "execution_count": 4,
   "metadata": {
    "collapsed": true
   },
   "outputs": [],
   "source": [
    "X_TRAIN = np.append(zeros[indx], ones, axis=0)\n",
    "Y_TRAIN = np.array([[0]]*len(indx) + [[1]]*len(ones))\n",
    "PAIRS = np.stack([zeros[indx], ones], axis=1)"
   ]
  },
  {
   "cell_type": "code",
   "execution_count": 5,
   "metadata": {
    "collapsed": true
   },
   "outputs": [],
   "source": [
    "class NN(Sequential):\n",
    "    def __init__(self):\n",
    "\n",
    "        super().__init__([\n",
    "            Dense(5, input_shape=(28,), activation='relu'),\n",
    "            Dense(1, activation='sigmoid')\n",
    "            ])\n",
    "\n",
    "        self.compile(loss='binary_crossentropy',\n",
    "                      optimizer=keras.optimizers.Adam(),\n",
    "                      metrics=['accuracy'])\n",
    "        \n",
    "        # цель этой части кода - определть self.grads, вычисляющую градиент на переданном батче\n",
    "        y_ = K.placeholder([None, 1])\n",
    "        y_pred = self.output\n",
    "        simple_loss = K.binary_crossentropy(output=y_pred, target=y_)\n",
    "        self.grads = K.function([self.input, y_], K.gradients(simple_loss, self.weights))\n",
    "        \n",
    "        # опряделяем array'и-вероятности (мне было удобно хранить их именно как часть сети)\n",
    "        self.probs_paired_case = np.array([(1 / len(PAIRS))]*len(PAIRS))\n",
    "        self.consts_paired_case = np.array([1]*len(PAIRS))\n",
    "        self.probs_not_paired_case = np.array([(1 / len(X_TRAIN))]*len(X_TRAIN))\n",
    "        self.consts_not_paired_case = np.array([1]*len(X_TRAIN))\n",
    "        \n",
    "    def recompute_probs_and_consts(self, is_paired_case):\n",
    "        \"\"\"\n",
    "        пересчитывает вероятности сэмплинга элементов X_TRAIN в случае\n",
    "        когда is_paired_case == False, или же вероятности сэмплинга элементов\n",
    "        PAIRS в случае is_paired_case=True\n",
    "        \"\"\"\n",
    "        \n",
    "        if is_paired_case:\n",
    "            probs = self.probs_paired_case\n",
    "            consts = self.consts_paired_case\n",
    "        else:\n",
    "            probs = self.probs_not_paired_case\n",
    "            consts = self.consts_not_paired_case\n",
    "\n",
    "        def get_G(x, y):\n",
    "            def l2_norm_of_list_of_arrays(list_of_arrays):\n",
    "                output = np.concatenate([elem.flatten() for elem in list_of_arrays])\n",
    "                output = output.reshape(-1)\n",
    "                return np.linalg.norm(output)\n",
    "            \n",
    "            def grads_on_elem(x, y):\n",
    "                return self.grads([x, y])\n",
    "            return l2_norm_of_list_of_arrays(grads_on_elem(x ,y))\n",
    "\n",
    "        if is_paired_case:\n",
    "            probs = np.array([get_G(elem, np.array([[0], [1]])) + 1e-8 for elem in PAIRS], dtype='float64')\n",
    "            probs = probs / probs.sum()\n",
    "            probs = np.clip(probs, a_min=(1 / len(PAIRS))/50, a_max=(1 / len(PAIRS))*50)\n",
    "            probs = probs / probs.sum()\n",
    "            consts = (1 / len(PAIRS)) * (1 / probs)\n",
    "        else:\n",
    "            probs = np.array([get_G(X_TRAIN[i].reshape(*DATA_SHAPE), Y_TRAIN[i].reshape(1,1)) + 1e-8 for i in range(len(X_TRAIN))], dtype='float64')\n",
    "            probs = probs / probs.sum()\n",
    "            probs = np.clip(probs, a_min=(1 / len(X_TRAIN))/50, a_max=(1 / len(X_TRAIN))*50)\n",
    "            probs = probs / probs.sum()\n",
    "            consts = (1 / len(X_TRAIN)) * (1 / probs)\n",
    "       "
   ]
  },
  {
   "cell_type": "code",
   "execution_count": 6,
   "metadata": {
    "collapsed": true
   },
   "outputs": [],
   "source": [
    "sess = tf.Session()\n",
    "K.set_session(sess)"
   ]
  },
  {
   "cell_type": "markdown",
   "metadata": {},
   "source": [
    "Всё, что происходит далее, сделано для ручного обучения keras моделей tf'ом.\n",
    "\n",
    "placeholder'ы **labels** и **constants** общие для всех моделей.\n",
    "\n",
    "**nn_uniform**: модель, которая обучается равномерным сэмплингом из **X_TRAIN**.\n",
    "\n",
    "**nn_discrete_paired_IS**: модель, которая обучается сэмплингом из **PAIRS** в соответствии с распределением, которое пересчитывается раз в 5 эпох (поэтому и слово discrete, т.к. не постоянно обновляются вероятности/константы)\n",
    "\n",
    "**nn_adaptive_paired_IS**: модель, которая обучается сэмплингом из **PAIRS** в соответствии с распределением, которое пересчитывается в процессе обучения на тех объектах, которые попали в батч на текущем шаге\n",
    "\n",
    "**nn_discrete_IS**: то же самое, что и **nn_discrete_paired_IS**, только сэмплим не из **PAIRS**, а из **X_TRAIN**\n",
    "\n",
    "**nn_adaptive_IS**: то же самое, что и **nn_adaptive_paired_IS**, только сэмплим не из **PAIRS**, а из **X_TRAIN**"
   ]
  },
  {
   "cell_type": "code",
   "execution_count": 7,
   "metadata": {},
   "outputs": [
    {
     "name": "stdout",
     "output_type": "stream",
     "text": [
      "Epoch 1/1\n",
      "264704/264704 [==============================] - 28s 104us/step - loss: 0.6824 - acc: 0.5603\n"
     ]
    }
   ],
   "source": [
    "labels = tf.placeholder(tf.float32, shape=(None, 1))\n",
    "constants = tf.placeholder(tf.float32, shape=(None, 1))\n",
    "\n",
    "nn_uniform = NN()\n",
    "loss_uniform = K.mean(K.binary_crossentropy(labels, nn_uniform.output), axis=-1)\n",
    "train_step_uniform = tf.train.AdamOptimizer().minimize(loss_uniform)\n",
    "\n",
    "nn_discrete_paired_IS = NN()\n",
    "loss_discrete_paired_IS = K.mean(constants * K.binary_crossentropy(labels, nn_discrete_paired_IS.output), axis=-1)\n",
    "train_step_discrete_paired_IS = tf.train.AdamOptimizer().minimize(loss_discrete_paired_IS)\n",
    "\n",
    "nn_adaptive_paired_IS = NN()\n",
    "loss_adaptive_paired_IS = K.mean(constants * K.binary_crossentropy(labels, nn_adaptive_paired_IS.output), axis=-1)\n",
    "train_step_adaptive_paired_IS = tf.train.AdamOptimizer().minimize(loss_adaptive_paired_IS)\n",
    "\n",
    "nn_discrete_IS = NN()\n",
    "loss_discrete_IS = K.mean(constants * K.binary_crossentropy(labels, nn_discrete_IS.output), axis=-1)\n",
    "train_step_discrete_IS = tf.train.AdamOptimizer().minimize(loss_discrete_IS)\n",
    "\n",
    "nn_adaptive_IS = NN()\n",
    "loss_adaptive_IS = K.mean(constants * K.binary_crossentropy(labels, nn_adaptive_IS.output), axis=-1)\n",
    "train_step_adaptive_IS = tf.train.AdamOptimizer().minimize(loss_adaptive_IS)\n",
    "\n",
    "init_op = tf.global_variables_initializer()\n",
    "sess.run(init_op)\n",
    "\n",
    "nn_uniform.fit(X_TRAIN, Y_TRAIN, epochs=1)\n",
    "\n",
    "nn_uniform.save_weights('weights')\n",
    "nn_discrete_paired_IS.load_weights('weights')\n",
    "nn_adaptive_paired_IS.load_weights('weights')\n",
    "nn_discrete_IS.load_weights('weights')\n",
    "nn_adaptive_IS.load_weights('weights')"
   ]
  },
  {
   "cell_type": "markdown",
   "metadata": {},
   "source": [
    "Определим сэмплеры. Названия соответствуют соответствующим нейросетям."
   ]
  },
  {
   "cell_type": "code",
   "execution_count": 8,
   "metadata": {
    "collapsed": true
   },
   "outputs": [],
   "source": [
    "def generate_uniform(nn, batch_size=512):\n",
    "    while True:\n",
    "        inds = np.random.choice(len(X_TRAIN), size=[batch_size])\n",
    "        current_x = X_TRAIN[inds]\n",
    "        current_y = Y_TRAIN[inds]\n",
    "        current_x = current_x.reshape(*DATA_SHAPE)\n",
    "        current_y = current_y.reshape(-1,1)\n",
    "        yield {nn.input:current_x, labels:current_y}\n",
    "        \n",
    "def generate_discrete_IS(nn, batch_size=512): \n",
    "    while True:\n",
    "        inds = np.random.choice(len(X_TRAIN), size=[batch_size], p=nn.probs_not_paired_case)\n",
    "        current_x = X_TRAIN[inds]\n",
    "        current_y = Y_TRAIN[inds]\n",
    "        current_c = np.array([nn.consts_not_paired_case[i] for i in inds])\n",
    "        current_x = current_x.reshape(*DATA_SHAPE)\n",
    "        current_y = current_y.reshape(-1,1)\n",
    "        current_c = current_c.reshape(-1,1)\n",
    "        yield {nn.input:current_x, constants:current_c, labels:current_y}\n",
    "        \n",
    "def generate_discrete_paired_IS(nn, batch_size=512):\n",
    "    while True:\n",
    "        inds = np.random.choice(len(PAIRS), size=[batch_size // 2], p=nn.probs_paired_case)\n",
    "        current_x = PAIRS[inds]\n",
    "        current_y = np.array([[0,1] for _ in current_x])\n",
    "        current_c = np.array([[nn.consts_paired_case[i], nn.consts_paired_case[i]] for i in inds])\n",
    "        current_x = current_x.reshape(*DATA_SHAPE)\n",
    "        current_y = current_y.reshape(-1,1)\n",
    "        current_c = current_c.reshape(-1,1)\n",
    "        yield {nn.input:current_x, constants:current_c, labels:current_y}\n",
    "\n",
    "def generate_adaptive_paired_IS(nn, batch_size=512):\n",
    "    \n",
    "    def get_G(pair):\n",
    "            def l2_norm_of_list_of_arrays(list_of_arrays):\n",
    "                output = np.concatenate([elem.flatten() for elem in list_of_arrays])\n",
    "                output = output.reshape(-1)\n",
    "                return np.linalg.norm(output)\n",
    "            \n",
    "            def grads_on_pair(pair):\n",
    "                return nn.grads([pair.reshape(*DATA_SHAPE),\n",
    "                                np.array([1,1]).reshape(-1,1),\n",
    "                                np.array([0,1]).reshape(-1,1)])\n",
    "            return l2_norm_of_list_of_arrays(grads_on_pair(pair))\n",
    "\n",
    "    while True:\n",
    "        inds = np.random.choice(len(PAIRS), size=[batch_size // 2], p=nn.probs_paired_case)\n",
    "        current_x = PAIRS[inds]\n",
    "        current_y = np.array([[0,1] for _ in current_x])\n",
    "        current_c = np.array([[nn.consts_paired_case[i], nn.consts_paired_case[i]] for i in inds])\n",
    "        \n",
    "        nn.probs_paired_case[inds] = np.array([get_G(pair) + 1e-8 for pair in current_x], dtype='float64')\n",
    "        nn.probs_paired_case = nn.probs_paired_case / nn.probs_paired_case.sum()\n",
    "        nn.probs_paired_case = np.clip(nn.probs_paired_case, a_min=(1 / len(PAIRS))/50, a_max=(1 / len(PAIRS))*50)\n",
    "        nn.probs_paired_case = nn.probs_paired_case / nn.probs_paired_case.sum()\n",
    "        nn.consts_paired_case = (1 / len(PAIRS)) * (1 / nn.probs_paired_case)\n",
    "        \n",
    "        current_x = current_x.reshape(*DATA_SHAPE)\n",
    "        current_y = current_y.reshape(-1,1)\n",
    "        current_c = current_c.reshape(-1,1)\n",
    "        yield {nn.input:current_x, constants:current_c, labels:current_y}\n",
    "        \n",
    "def generate_adaptive_IS(nn, batch_size=512):\n",
    "    \n",
    "    def get_G(x, y):\n",
    "            def l2_norm_of_list_of_arrays(list_of_arrays):\n",
    "                output = np.concatenate([elem.flatten() for elem in list_of_arrays])\n",
    "                output = output.reshape(-1)\n",
    "                return np.linalg.norm(output)\n",
    "            \n",
    "            def grads_on_elem(x, y):\n",
    "                return nn.grads([x, y])\n",
    "            return l2_norm_of_list_of_arrays(grads_on_elem(x ,y))\n",
    "\n",
    "    while True:\n",
    "        inds = np.random.choice(len(X_TRAIN), size=[batch_size // 2], p=nn.probs_not_paired_case)\n",
    "        current_x = X_TRAIN[inds]\n",
    "        current_y = Y_TRAIN[inds]\n",
    "        current_c = np.array([nn.consts_not_paired_case[i] for i in inds])\n",
    "        \n",
    "        nn.probs_not_paired_case[inds] = np.array([get_G(X_TRAIN[i].reshape(*DATA_SHAPE), Y_TRAIN[i].reshape(1,1)) + 1e-8 for pair in current_x], dtype='float64')\n",
    "        nn.probs_not_paired_case = nn.probs_not_paired_case / nn.probs_not_paired_case.sum()\n",
    "        nn.probs_not_paired_case = np.clip(nn.probs_not_paired_case, a_min=(1 / len(X_TRAIN))/50, a_max=(1 / len(X_TRAIN))*50)\n",
    "        nn.probs_not_paired_case = nn.probs_not_paired_case / nn.probs_not_paired_case.sum()\n",
    "        nn.consts_not_paired_case = (1 / len(X_TRAIN)) * (1 / nn.probs_not_paired_case)\n",
    "        \n",
    "        current_x = current_x.reshape(*DATA_SHAPE)\n",
    "        current_y = current_y.reshape(-1,1)\n",
    "        current_c = current_c.reshape(-1,1)\n",
    "        yield {nn.input:current_x, constants:current_c, labels:current_y}"
   ]
  },
  {
   "cell_type": "markdown",
   "metadata": {},
   "source": [
    "remark: \n",
    "\n",
    "$\\cdot$ пока что пользовался adam'ом\n",
    "\n",
    "$\\cdot$ обучение будет с минибатчами (т.е. adaptive-методы не бесплатные в этом случае даже теоретически). \n",
    "\n",
    "$\\cdot$ Моя реализация не делает бесплатными adaptive-методы даже в случае чистого SGD без минибатчей, исправлю это, если потребуется"
   ]
  },
  {
   "cell_type": "code",
   "execution_count": 12,
   "metadata": {
    "scrolled": true
   },
   "outputs": [
    {
     "name": "stderr",
     "output_type": "stream",
     "text": [
      "100%|██████████| 30/30 [01:15<00:00,  2.52s/it]\n"
     ]
    }
   ],
   "source": [
    "uniform = []\n",
    "with sess.as_default():\n",
    "    for ep in trange(50):\n",
    "        for i in range(100):\n",
    "            _, l =sess.run([train_step_uniform, loss_uniform], feed_dict=next(generate_uniform(nn_uniform, batch_size=64)))\n",
    "        uniform.append(nn_uniform.evaluate(X_TRAIN, Y_TRAIN, verbose=False, batch_size=128)[0])"
   ]
  },
  {
   "cell_type": "code",
   "execution_count": 13,
   "metadata": {},
   "outputs": [
    {
     "name": "stderr",
     "output_type": "stream",
     "text": [
      "100%|██████████| 30/30 [06:57<00:00, 13.91s/it]\n"
     ]
    }
   ],
   "source": [
    "adaptive_paired = []\n",
    "with sess.as_default():\n",
    "    for ep in trange(50):\n",
    "        for i in range(100):\n",
    "            _, l =sess.run([train_step_adaptive_paired_IS, loss_adaptive_paired_IS],\n",
    "                           feed_dict=next(generate_adaptive_paired_IS(nn_adaptive_paired_IS, batch_size=64)))\n",
    "        adaptive_paired.append(nn_adaptive_paired_IS.evaluate(X_TRAIN, Y_TRAIN, verbose=False)[0])"
   ]
  },
  {
   "cell_type": "code",
   "execution_count": 15,
   "metadata": {},
   "outputs": [
    {
     "name": "stderr",
     "output_type": "stream",
     "text": [
      "100%|██████████| 50/50 [06:10<00:00,  7.40s/it]\n"
     ]
    }
   ],
   "source": [
    "adaptive = []\n",
    "with sess.as_default():\n",
    "    for ep in trange(50):\n",
    "        for i in range(100):\n",
    "            _, l =sess.run([train_step_adaptive_IS, loss_adaptive_IS],\n",
    "                           feed_dict=next(generate_adaptive_IS(nn_adaptive_IS, batch_size=64)))\n",
    "        adaptive.append(nn_adaptive_IS.evaluate(X_TRAIN, Y_TRAIN, verbose=False, batch_size=128)[0])"
   ]
  },
  {
   "cell_type": "code",
   "execution_count": null,
   "metadata": {},
   "outputs": [
    {
     "name": "stderr",
     "output_type": "stream",
     "text": [
      " 50%|█████     | 10/20 [13:03<13:03, 78.35s/it]  "
     ]
    }
   ],
   "source": [
    "discrete = []\n",
    "with sess.as_default():\n",
    "    for ep in trange(50):\n",
    "        if ep % 5 == 0: nn_discrete_IS.recompute_probs_and_consts(False)\n",
    "        for i in range(100):\n",
    "            _, l =sess.run([train_step_discrete_IS, loss_discrete_IS],\n",
    "                           feed_dict=next(generate_discrete_IS(nn_discrete_IS, batch_size=64)))\n",
    "        discrete.append(nn_discrete_IS.evaluate(X_TRAIN, Y_TRAIN, verbose=False, batch_size=128)[0])"
   ]
  },
  {
   "cell_type": "code",
   "execution_count": null,
   "metadata": {},
   "outputs": [],
   "source": [
    "discrete_paired = []\n",
    "with sess.as_default():\n",
    "    for ep in trange(20):\n",
    "        if ep % 5 == 0: nn_discrete_paired_IS.recompute_probs_and_consts(False)\n",
    "        for i in range(100):\n",
    "            _, l =sess.run([train_step_discrete_paired_IS, loss_discrete_paired_IS],\n",
    "                           feed_dict=next(generate_discrete_paired_IS(nn_discrete_paired_IS, batch_size=64)))\n",
    "        discrete_paired.append(nn_discrete_paired_IS.evaluate(X_TRAIN, Y_TRAIN, verbose=False, batch_size=128)[0])"
   ]
  },
  {
   "cell_type": "code",
   "execution_count": 24,
   "metadata": {},
   "outputs": [
    {
     "data": {
      "image/png": "[encoded data removed]",
      "text/plain": [
       "<matplotlib.figure.Figure at 0x7fbab564f438>"
      ]
     },
     "metadata": {},
     "output_type": "display_data"
    }
   ],
   "source": [
    "plt.plot(uniform, label='uniform')\n",
    "plt.plot(adaptive_paired, label='adaptive paired')\n",
    "plt.plot(adaptive, label='adaptive non-paired')\n",
    "plt.plot(discrete_paired, label='discrete paired')\n",
    "plt.plot(discrete, label='discrete non-paired ')\n",
    "plt.legend()\n",
    "plt.xlabel('epoch')\n",
    "plt.ylabel('train loss')\n",
    "plt.show()"
   ]
  },
  {
   "cell_type": "markdown",
   "metadata": {},
   "source": [
    "Выводы: paired-методы обучаются быстрее, чем обычные не-paired: успех."
   ]
  }
 ],
 "metadata": {
  "kernelspec": {
   "display_name": "Python 3",
   "language": "python",
   "name": "python3"
  },
  "language_info": {
   "codemirror_mode": {
    "name": "ipython",
    "version": 3
   },
   "file_extension": ".py",
   "mimetype": "text/x-python",
   "name": "python",
   "nbconvert_exporter": "python",
   "pygments_lexer": "ipython3",
   "version": "3.6.1"
  }
 },
 "nbformat": 4,
 "nbformat_minor": 2
}
