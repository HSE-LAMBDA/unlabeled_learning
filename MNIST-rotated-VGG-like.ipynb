{
 "cells": [
  {
   "cell_type": "code",
   "execution_count": 1,
   "metadata": {},
   "outputs": [
    {
     "name": "stdout",
     "output_type": "stream",
     "text": [
      "env: THEANO_FLAGS='device=cuda', 'floatX=float32', 'gpuarray.preallocate=0.2'\n"
     ]
    }
   ],
   "source": [
    "%env THEANO_FLAGS='device=cuda', 'floatX=float32', 'gpuarray.preallocate=0.2'"
   ]
  },
  {
   "cell_type": "code",
   "execution_count": 2,
   "metadata": {},
   "outputs": [
    {
     "name": "stderr",
     "output_type": "stream",
     "text": [
      "Using cuDNN version 7005 on context None\n",
      "Preallocating 1622/8110 Mb (0.200000) on cuda\n",
      "Mapped name None to device cuda: GeForce GTX 1080 (0000:01:00.0)\n"
     ]
    }
   ],
   "source": [
    "%matplotlib inline\n",
    "import matplotlib.pyplot as plt\n",
    "\n",
    "import numpy as np\n",
    "\n",
    "import theano\n",
    "import theano.tensor as T\n",
    "\n",
    "from craynn.utils import mnist\n",
    "\n",
    "from tqdm import tqdm_notebook"
   ]
  },
  {
   "cell_type": "markdown",
   "metadata": {},
   "source": [
    "## Data"
   ]
  },
  {
   "cell_type": "code",
   "execution_count": 3,
   "metadata": {},
   "outputs": [],
   "source": [
    "X_train, _, X_test, _ = mnist(cast='float32')"
   ]
  },
  {
   "cell_type": "code",
   "execution_count": 4,
   "metadata": {},
   "outputs": [],
   "source": [
    "X_train /= 255.0\n",
    "X_test /= 255.0"
   ]
  },
  {
   "cell_type": "code",
   "execution_count": 5,
   "metadata": {},
   "outputs": [],
   "source": [
    "alpha1 = 10\n",
    "alpha2 = 25\n",
    "\n",
    "angle_dist = lambda alpha: lambda shape: np.random.normal(alpha, 20, size=shape)\n",
    "angle_dist1 = angle_dist(alpha1)\n",
    "angle_dist2 = angle_dist(alpha2)"
   ]
  },
  {
   "cell_type": "code",
   "execution_count": 6,
   "metadata": {},
   "outputs": [],
   "source": [
    "def get_rotated(X, repeat=4):\n",
    "    indx = np.random.permutation(X.shape[0])\n",
    "    n = X.shape[0]\n",
    "\n",
    "    X_rot = X[indx[(n // 2):]]\n",
    "    X_rot = np.repeat(X_rot, repeats=repeat, axis=0)\n",
    "    \n",
    "    X_original = X[indx[:(n // 2)]]\n",
    "    X_original = np.repeat(X_original, repeats=repeat, axis=0)\n",
    "    \n",
    "    def rotate_data(X, angles):\n",
    "        from skimage.transform import rotate\n",
    "\n",
    "        if not hasattr(angles, 'shape'):\n",
    "            angles = np.ones(X.shape[0]) * angles\n",
    "        return np.array([\n",
    "            rotate(X[i, 0], angle=angles[i], order=3, resize=False, preserve_range=True).reshape(1, 28, 28)\n",
    "            for i in tqdm_notebook(range(X.shape[0]))\n",
    "        ]).astype('float32')\n",
    "    \n",
    "    \n",
    "    ### more artefacts!\n",
    "    angles = angle_dist1(X_rot.shape[0])\n",
    "    X_rot = rotate_data(X_rot, 2 * angles)\n",
    "    X_rot = rotate_data(X_rot, -angles)\n",
    "\n",
    "    angles = angle_dist2(X_original.shape[0])\n",
    "    X_original = rotate_data(X_original, angles = 2 * angles)\n",
    "    X_original = rotate_data(X_original, angles = -angles)\n",
    "    \n",
    "    X = np.vstack([X_original, X_rot])\n",
    "    X += np.random.normal(0, 0.2, size=X.shape)\n",
    "\n",
    "    y = np.hstack([\n",
    "        np.ones(X_original.shape[0], dtype='float32'),\n",
    "        np.zeros(X_rot.shape[0], dtype='float32')\n",
    "    ])\n",
    "    \n",
    "    indx = np.random.permutation(X.shape[0])\n",
    "    return X[indx], y[indx]"
   ]
  },
  {
   "cell_type": "markdown",
   "metadata": {},
   "source": [
    "### Lower bound on cross-entropy"
   ]
  },
  {
   "cell_type": "code",
   "execution_count": 7,
   "metadata": {},
   "outputs": [
    {
     "data": {
      "image/png": "[encoded data removed]",
      "text/plain": [
       "<Figure size 432x288 with 1 Axes>"
      ]
     },
     "metadata": {},
     "output_type": "display_data"
    }
   ],
   "source": [
    "_ = plt.hist([\n",
    "    angle_dist1(60000),\n",
    "    angle_dist2(60000),\n",
    "], bins=50, histtype='step', lw=2)"
   ]
  },
  {
   "cell_type": "code",
   "execution_count": 8,
   "metadata": {},
   "outputs": [],
   "source": [
    "xs_ = T.fvector()\n",
    "\n",
    "xs = xs_[:-1]\n",
    "deltas = xs_[1:] - xs_[:-1]\n",
    "\n",
    "\n",
    "a = T.fscalar()\n",
    "b = T.fscalar()\n",
    "\n",
    "sigma = T.fscalar()\n",
    "\n",
    "n = -0.5 / (sigma ** 2)\n",
    "Z = 1.0 / T.sqrt(2 * np.pi) / sigma\n",
    "\n",
    "### note log1p instead of log\n",
    "log_f = -T.log1p(T.exp(n * ( (xs - b) ** 2 - (xs - a) ** 2 )))\n",
    "log_1_f = -T.log1p(T.exp(n * ( (xs - a) ** 2 - (xs - b) ** 2 )))\n",
    "\n",
    "p = Z * T.exp(n * (xs - a) ** 2)\n",
    "q = Z * T.exp(n * (xs - b) ** 2)\n",
    "\n",
    "loss = -0.5 * T.sum(deltas * p * log_f) - 0.5 * T.sum(deltas * q * log_1_f)"
   ]
  },
  {
   "cell_type": "code",
   "execution_count": 11,
   "metadata": {},
   "outputs": [
    {
     "data": {
      "text/plain": [
       "array(0.6273792, dtype=float32)"
      ]
     },
     "execution_count": 11,
     "metadata": {},
     "output_type": "execute_result"
    }
   ],
   "source": [
    "loss.eval({\n",
    "    xs_ : np.linspace(-120, 120, num=1000000, dtype='float32'),\n",
    "    a : alpha1,\n",
    "    b : alpha2,\n",
    "    sigma : 20\n",
    "})"
   ]
  },
  {
   "cell_type": "markdown",
   "metadata": {},
   "source": [
    "*let's continue...*"
   ]
  },
  {
   "cell_type": "code",
   "execution_count": null,
   "metadata": {},
   "outputs": [
    {
     "data": {
      "application/vnd.jupyter.widget-view+json": {
       "model_id": "34831dbd58b1415cafd18927505c3e26",
       "version_major": 2,
       "version_minor": 0
      },
      "text/html": [
       "<p>Failed to display Jupyter Widget of type <code>HBox</code>.</p>\n",
       "<p>\n",
       "  If you're reading this message in the Jupyter Notebook or JupyterLab Notebook, it may mean\n",
       "  that the widgets JavaScript is still loading. If this message persists, it\n",
       "  likely means that the widgets JavaScript library is either not installed or\n",
       "  not enabled. See the <a href=\"https://ipywidgets.readthedocs.io/en/stable/user_install.html\">Jupyter\n",
       "  Widgets Documentation</a> for setup instructions.\n",
       "</p>\n",
       "<p>\n",
       "  If you're reading this message in another frontend (for example, a static\n",
       "  rendering on GitHub or <a href=\"https://nbviewer.jupyter.org/\">NBViewer</a>),\n",
       "  it may mean that your frontend doesn't currently support widgets.\n",
       "</p>\n"
      ],
      "text/plain": [
       "HBox(children=(IntProgress(value=0, max=120000), HTML(value='')))"
      ]
     },
     "metadata": {},
     "output_type": "display_data"
    }
   ],
   "source": [
    "X_train, y_train = get_rotated(X_train)\n",
    "X_test, y_test = get_rotated(X_test)"
   ]
  },
  {
   "cell_type": "code",
   "execution_count": null,
   "metadata": {},
   "outputs": [],
   "source": [
    "plt.subplots(nrows=2, ncols=10, figsize=(30, 6))\n",
    "\n",
    "for j in range(10):\n",
    "    plt.subplot(2, 10, j + 1)\n",
    "    plt.imshow(X_train[2 * j, 0], cmap=plt.cm.Greys_r)\n",
    "\n",
    "    plt.subplot(2, 10, j + 10 + 1)\n",
    "    plt.imshow(X_train[2 * j + 1, 0], cmap=plt.cm.Greys_r)"
   ]
  },
  {
   "cell_type": "markdown",
   "metadata": {},
   "source": [
    "## Network"
   ]
  },
  {
   "cell_type": "code",
   "execution_count": null,
   "metadata": {},
   "outputs": [],
   "source": [
    "from craynn.layers import *\n",
    "from craynn.networks import *\n",
    "from craynn.subnetworks import *\n",
    "from craynn.updates import *\n",
    "from craynn.utils import lsum\n",
    "from craynn.viz import SNNWatcher, draw_to_notebook"
   ]
  },
  {
   "cell_type": "code",
   "execution_count": null,
   "metadata": {},
   "outputs": [],
   "source": [
    "n = 8\n",
    "\n",
    "nn = net((None, 1, 28, 28))(\n",
    "    conv(n, f=T.nnet.softplus),\n",
    "    conv(n, f=T.nnet.softplus),\n",
    "    max_pool(),\n",
    "    \n",
    "    conv(int(1.5 * n), f=T.nnet.softplus),\n",
    "    conv(int(1.5 * n), f=T.nnet.softplus),\n",
    "    max_pool(),\n",
    "    \n",
    "    conv(2 * n, f=T.nnet.softplus),\n",
    "    \n",
    "    dense(1, f = lambda x: x),\n",
    "    flatten(outdim=1)\n",
    ")"
   ]
  },
  {
   "cell_type": "code",
   "execution_count": null,
   "metadata": {},
   "outputs": [],
   "source": [
    "draw_to_notebook(nn)"
   ]
  },
  {
   "cell_type": "code",
   "execution_count": null,
   "metadata": {},
   "outputs": [],
   "source": [
    "print(nn.description())"
   ]
  },
  {
   "cell_type": "code",
   "execution_count": null,
   "metadata": {},
   "outputs": [],
   "source": [
    "X = T.ftensor4()\n",
    "y = T.fvector()"
   ]
  },
  {
   "cell_type": "code",
   "execution_count": null,
   "metadata": {},
   "outputs": [],
   "source": [
    "f, = nn(X)"
   ]
  },
  {
   "cell_type": "code",
   "execution_count": null,
   "metadata": {},
   "outputs": [],
   "source": [
    "nn.reg_l2().eval()"
   ]
  },
  {
   "cell_type": "code",
   "execution_count": null,
   "metadata": {},
   "outputs": [],
   "source": [
    "losses = y * T.nnet.softplus(-f) + (1 - y) * T.nnet.softplus(f)\n",
    "\n",
    "C_reg = T.fscalar()\n",
    "\n",
    "pure_loss = T.mean(losses)\n",
    "regularization = nn.reg_l2()\n",
    "loss = pure_loss + C_reg * T.exp(regularization)"
   ]
  },
  {
   "cell_type": "code",
   "execution_count": null,
   "metadata": {},
   "outputs": [],
   "source": [
    "learning_rate = T.fscalar()\n",
    "\n",
    "upd = rmsprop(loss, nn.params(), learning_rate=learning_rate)\n",
    "\n",
    "train = theano.function(\n",
    "    [X, y, learning_rate, C_reg],\n",
    "    [pure_loss, regularization],\n",
    "    updates=upd, allow_input_downcast=True\n",
    ")"
   ]
  },
  {
   "cell_type": "code",
   "execution_count": null,
   "metadata": {},
   "outputs": [],
   "source": [
    "predict = theano.function([X], T.nnet.sigmoid(f))"
   ]
  },
  {
   "cell_type": "code",
   "execution_count": null,
   "metadata": {},
   "outputs": [],
   "source": [
    "get_loss = theano.function([X, y], T.sum(losses))"
   ]
  },
  {
   "cell_type": "code",
   "execution_count": null,
   "metadata": {},
   "outputs": [],
   "source": [
    "watcher = SNNWatcher(\n",
    "    title='mnist cnn', mode='fill',\n",
    "    labels=('train loss', 'test loss'),\n",
    "    colors=('blue', 'green')\n",
    ")\n",
    "\n",
    "num_epoches = 16\n",
    "num_batches = X_train.shape[0] // 32\n",
    "\n",
    "losses = np.ndarray(shape=(num_epoches, num_batches), dtype='float32')\n",
    "test_losses = np.ndarray(shape=(num_epoches, 1), dtype='float32')\n",
    "regs = np.ndarray(shape=(num_epoches, num_batches), dtype='float32')\n",
    "\n",
    "stream = streams.inf_random(X_train.shape[0], batch_size=32)\n",
    "\n",
    "for i in range(num_epoches):\n",
    "    for j in range(num_batches):\n",
    "        indx = next(stream)\n",
    "        losses[i, j], regs[i, j] = train(X_train[indx], y_train[indx], 1.0e-3, 1.0e-4)\n",
    "\n",
    "    test_losses[i, 0] = np.sum([\n",
    "        get_loss(X_test[indx], y_test[indx])\n",
    "        for indx in streams.seq(X_test.shape[0], batch_size=128)\n",
    "    ]) / X_test.shape[0]\n",
    "\n",
    "    watcher.draw(\n",
    "        losses[:(i + 1)],\n",
    "        test_losses[:(i + 1)]\n",
    "    )"
   ]
  },
  {
   "cell_type": "code",
   "execution_count": null,
   "metadata": {},
   "outputs": [],
   "source": [
    "np.sum([\n",
    "    np.sum((predict(X_test[indx]) > 0.5) == y_test[indx])\n",
    "    for indx in streams.seq(X_test.shape[0], batch_size=128)\n",
    "]) / X_test.shape[0]"
   ]
  },
  {
   "cell_type": "code",
   "execution_count": null,
   "metadata": {},
   "outputs": [],
   "source": [
    "np.sum([\n",
    "    np.sum((predict(X_train[indx]) > 0.5) == y_train[indx])\n",
    "    for indx in streams.seq(X_train.shape[0], batch_size=128)\n",
    "]) / X_train.shape[0]"
   ]
  },
  {
   "cell_type": "code",
   "execution_count": null,
   "metadata": {},
   "outputs": [],
   "source": []
  }
 ],
 "metadata": {
  "kernelspec": {
   "display_name": "Python 3",
   "language": "python",
   "name": "python3"
  },
  "language_info": {
   "codemirror_mode": {
    "name": "ipython",
    "version": 3
   },
   "file_extension": ".py",
   "mimetype": "text/x-python",
   "name": "python",
   "nbconvert_exporter": "python",
   "pygments_lexer": "ipython3",
   "version": "3.6.4"
  }
 },
 "nbformat": 4,
 "nbformat_minor": 2
}
